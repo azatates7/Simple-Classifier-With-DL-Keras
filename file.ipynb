
import tensorflow.compat.v1 as tf  
#import tensorflow as tf  
print(tf.__version__)  

import keras

import numpy as np
import matplotlib.pyplot as plt

#%matplotlib notebook 
%matplotlib inline
 
import seaborn as sns
sns.set_style("darkgrid")
 
fashion_mnist = keras.datasets.fashion_mnist

(train_images, train_labels), (test_images, test_labels) = fashion_mnist.load_data()

print("Eğitim setinin boyutu: ")
print(train_images.shape)
print("Test setinin boyutu: ")
print(test_images.shape)
 
unique_classes,u_counts = np.unique(np.concatenate([train_labels,test_labels]),return_counts=True)
print(unique_classes)
print(u_counts)

class_names = ['Tişört / Üst', 'Pantolon', 'Kazak', 'Elbise', 'Ceket',
               'Sandal', 'Gömlek', 'Spor Ayakkabı', 'Çanta', 'Çizme']

num_of_samples_per_class = 10
num_classes = len(unique_classes)


fig, axes = plt.subplots(nrows=num_classes, 
                         ncols=num_of_samples_per_class, 
                         figsize=(num_classes,num_of_samples_per_class))
 
for ix,current_class in enumerate(unique_classes):
     
    for iy,current_sample in enumerate(range(num_of_samples_per_class)):
     
        index = np.where([train_labels == current_class])[1][current_sample]
         
        current_image = train_images[index]
         
        axes[ix][iy].imshow(current_image, cmap=plt.cm.binary)
        axes[ix][iy].set_xticks([])
        axes[ix][iy].set_yticks([])
        
 
for ax, row in zip(axes[:,0], class_names):
    ax.set_title(row, rotation=0, size='large')

plt.subplots_adjust(hspace=0.5,wspace=0.2)

model = keras.Sequential([
    keras.layers.Flatten(input_shape=(28, 28)),
    keras.layers.Dense(128, activation=tf.nn.relu),
    keras.layers.Dense(10, activation=tf.nn.softmax)
])
 
model.count_params()

model.summary()

model.compile(optimizer=tf.train.AdamOptimizer(), 
              loss='sparse_categorical_crossentropy',
              metrics=['accuracy'])

model.fit(train_images, train_labels, epochs=5)

train_images = train_images / 255.0
test_images = test_images / 255.0
model.fit(train_images, train_labels, epochs=5)

test_loss, test_acc = model.evaluate(test_images, test_labels)

print("Test seti \"accuracy\" değeri {:.2f}".format(test_acc))

predictions = model.predict(test_images)
predictions.shape

sum(predictions[0])

sum(sum(predictions))

# Tahminleri görselleştirmek için bir fonksiyon yazalım
def plot_predictions_and_image(sample_num):
    plt.figure(figsize=(7,3))
    plt.subplot(1,2,2)
    bars = plt.barh(class_names,predictions[sample_num], color="#777777")
    
    pred_class = class_names[np.argmax(predictions[sample_num])]
    real_class = class_names[test_labels[sample_num]]
    confidence = np.max(predictions[sample_num])
     
    if pred_class==real_class:
        bars[np.argmax(predictions[sample_num])].set_color("b")
    else:
        bars[np.argmax(predictions[sample_num])].set_color("r")
            
      
    plt.subplot(1,2,1)
    plt.imshow(test_images[sample_num],cmap=plt.cm.binary)
    plt.xticks([])
    plt.yticks([])
    plt.title("Gerçekte: {:}".format(real_class) 
              + "\n" +
             "Tahmin edilen: {:} ({:.2f})".format(pred_class,confidence) )
    plt.subplots_adjust(wspace=0.5)

plot_predictions_and_image(0)
plot_predictions_and_image(1)
plot_predictions_and_image(2)

pred_labels = np.argmax(predictions,axis=1)
misclassified= np.where(test_labels != pred_labels)[0]
print("Yanlış sınıflandırılan örnek sayısı: {:} / {:}".format(len(misclassified),len(pred_labels)) )

plot_predictions_and_image(misclassified[0])
plot_predictions_and_image(misclassified[1])
plot_predictions_and_image(misclassified[2])

print("Run Ok!")  
